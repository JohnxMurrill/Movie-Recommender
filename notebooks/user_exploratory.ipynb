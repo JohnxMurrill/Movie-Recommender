{
 "cells": [
  {
   "cell_type": "code",
   "execution_count": 9,
   "id": "100142a6",
   "metadata": {},
   "outputs": [],
   "source": [
    "import pandas as pd\n",
    "import numpy as np\n",
    "import re\n",
    "from wordcloud import WordCloud\n",
    "import matplotlib.pyplot as plt\n",
    "from sklearn.feature_extraction.text import TfidfVectorizer\n",
    "from sklearn.metrics.pairwise import cosine_similarity\n",
    "import spacy\n",
    "from scipy import sparse\n",
    "import re"
   ]
  },
  {
   "cell_type": "code",
   "execution_count": 10,
   "id": "eba197d9",
   "metadata": {},
   "outputs": [],
   "source": [
    "ratings = pd.read_csv('data/ml-32m/ratings.csv')\n",
    "movies= pd.read_csv('data/ml-32m/movies.csv')\n",
    "tags = pd.read_csv('data/ml-32m/tags.csv')"
   ]
  },
  {
   "cell_type": "code",
   "execution_count": 4,
   "id": "2443d17e",
   "metadata": {},
   "outputs": [],
   "source": [
    "preprocessed_movies = pd.read_csv('pre_processed_movies.csv')"
   ]
  },
  {
   "cell_type": "code",
   "execution_count": 5,
   "id": "9bc5d2a7",
   "metadata": {},
   "outputs": [],
   "source": [
    "META_TAGS = {\n",
    "    \"religious\" : [\"pope\", \"god\", \"jesus\", \"bible\", \"church\", \"devil\", \"angel\", \"heaven\", \"hell\", \"satan\", \"jesus christ\", \"spiritual\", \"faith\",\n",
    "                   \"demon\", \"religion\"],\n",
    "    \"nsfw\" : [\"gore\", \"nudity\", \"sex\", \"group sex\", \"violence\", \"explicit sex\", \"gruesome\", \"erection\", \"nudity (full frontal - notable)\",\n",
    "              \"breasts\", \"nudity (topless - notable)\", \"nudity (topless)\"],\n",
    "    \"childrens\" : [\"disney\", \"disney animated feature\", \"animated\"],\n",
    "    \"oscar_winner\" : [\"oscar (best supporting actor)\" ,\"oscar (best actor)\",\"oscar (best directing)\",\"oscar winner: best picture\",\"oscar (best picture)\",\n",
    "                      \"oscar (best supporting actress)\",\"oscar (best actress)\"],\n",
    "    \"oscar_nominee\" : [\"oscar nominee: best picture\",\"oscar nominee: best actor\",\"oscar nominee: best actress\",\"oscar nominee: best supporting actor\",\n",
    "                      \"oscar nominee: best supporting actress\",\"oscar nominee: best director\"],\n",
    "    \"notable\" : [\"afi 100\", \"imdb top 250\", \"national film registry\"],\n",
    "    \"genres\" : [\n",
    "        \"action\", \"adventure\", \"animation\", \"children's\", \"comedy\", \"crime\", \"documentary\", \"drama\", \"fantasy\", \"film-noir\", \"horror\", \"musical\", \"mystery\", \"romance\", \"sci-fi\", \"thriller\", \"war\", \"western\", \"(no genres listed)\"\n",
    "    ]\n",
    "}"
   ]
  },
  {
   "cell_type": "code",
   "execution_count": 6,
   "id": "971c3f74",
   "metadata": {},
   "outputs": [
    {
     "name": "stdout",
     "output_type": "stream",
     "text": [
      "userId\n",
      "1    3.531915\n",
      "2    4.269231\n",
      "3    3.588435\n",
      "4    2.629630\n",
      "5    3.272727\n",
      "Name: rating, dtype: float64\n",
      "userId\n",
      "1    [17, 25, 29, 30, 32, 34, 36, 80, 110, 111, 161...\n",
      "2    [31, 34, 39, 48, 153, 185, 186, 193, 207, 216,...\n",
      "3    [2, 10, 11, 17, 26, 48, 62, 110, 141, 150, 151...\n",
      "4    [223, 1210, 1272, 1327, 1513, 1833, 2115, 2428...\n",
      "5    [10, 47, 110, 150, 153, 161, 165, 185, 208, 23...\n",
      "Name: movieId, dtype: object\n"
     ]
    }
   ],
   "source": [
    "# Average rating of all movies the user has watched\n",
    "user_avg_ratings = ratings.groupby('userId')['rating'].mean()\n",
    "print(user_avg_ratings.head(n=5))\n",
    "# List of all movies the user has watched\n",
    "movies_usr_watched = ratings.groupby('userId')['movieId'].apply(list)\n",
    "print(movies_usr_watched.head(n=5))\n",
    "# List of all genres the user has watched\n",
    "genres_usr_watched = ratings.merge(movies, on='movieId')[['userId', 'genres']]\n",
    "genres_usr_watched['genres'] = genres_usr_watched['genres'].str.split('|')"
   ]
  },
  {
   "cell_type": "code",
   "execution_count": 7,
   "id": "bb3796a7",
   "metadata": {},
   "outputs": [
    {
     "name": "stdout",
     "output_type": "stream",
     "text": [
      "userId\n",
      "1    [Sci-Fi, Thriller, Film-Noir, Horror, Mystery,...\n",
      "2    [Thriller, Horror, Animation, Mystery, IMAX, D...\n",
      "3    [Sci-Fi, Thriller, Romance, Horror, Animation,...\n",
      "4    [Sci-Fi, Thriller, Horror, Mystery, Drama, Act...\n",
      "5    [Sci-Fi, Thriller, Horror, Animation, Mystery,...\n",
      "Name: genres, dtype: object\n"
     ]
    }
   ],
   "source": [
    "# Get unique genres watched by each user\n",
    "genres_usr_unique = genres_usr_watched.groupby('userId')['genres'].sum().apply(lambda x: list(set(x)))\n",
    "print(genres_usr_unique.head(n=5))"
   ]
  },
  {
   "cell_type": "code",
   "execution_count": null,
   "id": "52b8d095",
   "metadata": {},
   "outputs": [
    {
     "name": "stdout",
     "output_type": "stream",
     "text": [
      "genres  (no genres listed)  Action  Adventure  Animation  Children  Comedy  \\\n",
      "userId                                                                       \n",
      "1                        0      19         17          0         2      51   \n",
      "2                        0       9          7          8        11      26   \n",
      "3                        0      58         58         12        20      54   \n",
      "4                        0      11          5          0         0       7   \n",
      "5                        0      14         13          3         4       9   \n",
      "\n",
      "genres  Crime  Documentary  Drama  Fantasy  Film-Noir  Horror  IMAX  Musical  \\\n",
      "userId                                                                         \n",
      "1          16            1    102        8          1       3     0        0   \n",
      "2           6            0     24        4          0       1     2        7   \n",
      "3          16            0     53       17          0       4     4       10   \n",
      "4           3            0      8        3          0       7     0        0   \n",
      "5           9            0     13        2          0       2     3        3   \n",
      "\n",
      "genres  Mystery  Romance  Sci-Fi  Thriller  War  Western  \n",
      "userId                                                    \n",
      "1            10       36      17        16   22        2  \n",
      "2             1       21       0        11    2        0  \n",
      "3             3       35      35        32   12        3  \n",
      "4             4        0       5        12    2        0  \n",
      "5             1        4       5        16    3        1  \n",
      "genres  (no genres listed)    Action  Adventure  Animation  Children  \\\n",
      "userId                                                                 \n",
      "1                      NaN  4.105263   3.470588        NaN  3.500000   \n",
      "2                      NaN  3.888889   4.142857   4.875000  4.727273   \n",
      "3                      NaN  3.560345   3.620690   3.958333  3.775000   \n",
      "4                      NaN  2.454545   3.400000        NaN       NaN   \n",
      "5                      NaN  3.642857   3.461538   3.666667  3.500000   \n",
      "\n",
      "genres    Comedy     Crime  Documentary     Drama   Fantasy  Film-Noir  \\\n",
      "userId                                                                   \n",
      "1       3.333333  3.875000          3.0  3.549020  2.500000        5.0   \n",
      "2       4.000000  3.500000          NaN  4.458333  4.750000        NaN   \n",
      "3       3.203704  3.406250          NaN  4.169811  3.117647        NaN   \n",
      "4       3.142857  2.000000          NaN  2.375000  3.333333        NaN   \n",
      "5       3.000000  2.888889          NaN  3.153846  3.000000        NaN   \n",
      "\n",
      "genres    Horror      IMAX   Musical   Mystery   Romance    Sci-Fi  Thriller  \\\n",
      "userId                                                                         \n",
      "1       3.666667       NaN       NaN  3.700000  3.250000  3.941176  3.500000   \n",
      "2       1.000000  5.000000  4.857143  5.000000  4.761905       NaN  4.181818   \n",
      "3       2.375000  4.250000  3.850000  3.666667  3.714286  3.428571  3.468750   \n",
      "4       2.571429       NaN       NaN  3.000000       NaN  2.800000  2.166667   \n",
      "5       2.500000  3.666667  3.666667  3.000000  3.750000  3.200000  3.562500   \n",
      "\n",
      "genres       War  Western  \n",
      "userId                     \n",
      "1       3.318182      3.5  \n",
      "2       4.000000      NaN  \n",
      "3       4.083333      3.5  \n",
      "4       2.500000      NaN  \n",
      "5       4.000000      3.0  \n"
     ]
    }
   ],
   "source": [
    "# WARNING: This is block is very inefficient, so the following operations may take some time to run.\n",
    "# \n",
    "# 1) User watch count by genre\n",
    "# Explode genres so each row is (userId, genre)\n",
    "exploded = genres_usr_watched.explode('genres')\n",
    "# Remove any missing genres\n",
    "exploded = exploded[exploded['genres'].notnull()]\n",
    "# User watch count by genre (number of movies watched per genre)\n",
    "user_genre_watch_count = exploded.groupby(['userId', 'genres']).size().unstack(fill_value=0)\n",
    "print(user_genre_watch_count.head())\n",
    "\n",
    "# 2) User average rating by genre\n",
    "# Merge ratings with movies to get genres for each rating\n",
    "ratings_with_genres = ratings.merge(movies[['movieId', 'genres']], on='movieId')\n",
    "ratings_with_genres['genres'] = ratings_with_genres['genres'].str.split('|')\n",
    "ratings_exploded = ratings_with_genres.explode('genres')\n",
    "ratings_exploded = ratings_exploded[ratings_exploded['genres'].notnull()]\n",
    "# Group by user and genre, then average the ratings\n",
    "user_genre_avg_rating = ratings_exploded.groupby(['userId', 'genres'])['rating'].mean().unstack()\n",
    "print(user_genre_avg_rating.head())"
   ]
  },
  {
   "cell_type": "code",
   "execution_count": 51,
   "id": "ee9a49d7",
   "metadata": {},
   "outputs": [
    {
     "name": "stdout",
     "output_type": "stream",
     "text": [
      "        avg_rating  unique_genres_watched  (no genres listed)  Action  \\\n",
      "userId                                                                  \n",
      "1         3.531915                     16                   0      19   \n",
      "2         4.269231                     15                   0       9   \n",
      "3         3.588435                     17                   0      58   \n",
      "4         2.629630                     11                   0      11   \n",
      "5         3.272727                     17                   0      14   \n",
      "\n",
      "        Adventure  Animation  Children  Comedy  Crime  Documentary  ...  \\\n",
      "userId                                                              ...   \n",
      "1              17          0         2      51     16            1  ...   \n",
      "2               7          8        11      26      6            0  ...   \n",
      "3              58         12        20      54     16            0  ...   \n",
      "4               5          0         0       7      3            0  ...   \n",
      "5              13          3         4       9      9            0  ...   \n",
      "\n",
      "        Film-Noir_avg_rating  Horror_avg_rating  IMAX_avg_rating  \\\n",
      "userId                                                             \n",
      "1                        5.0           3.666667              NaN   \n",
      "2                        NaN           1.000000         5.000000   \n",
      "3                        NaN           2.375000         4.250000   \n",
      "4                        NaN           2.571429              NaN   \n",
      "5                        NaN           2.500000         3.666667   \n",
      "\n",
      "        Musical_avg_rating  Mystery_avg_rating  Romance_avg_rating  \\\n",
      "userId                                                               \n",
      "1                      NaN            3.700000            3.250000   \n",
      "2                 4.857143            5.000000            4.761905   \n",
      "3                 3.850000            3.666667            3.714286   \n",
      "4                      NaN            3.000000                 NaN   \n",
      "5                 3.666667            3.000000            3.750000   \n",
      "\n",
      "        Sci-Fi_avg_rating  Thriller_avg_rating  War_avg_rating  \\\n",
      "userId                                                           \n",
      "1                3.941176             3.500000        3.318182   \n",
      "2                     NaN             4.181818        4.000000   \n",
      "3                3.428571             3.468750        4.083333   \n",
      "4                2.800000             2.166667        2.500000   \n",
      "5                3.200000             3.562500        4.000000   \n",
      "\n",
      "        Western_avg_rating  \n",
      "userId                      \n",
      "1                      3.5  \n",
      "2                      NaN  \n",
      "3                      3.5  \n",
      "4                      NaN  \n",
      "5                      3.0  \n",
      "\n",
      "[5 rows x 42 columns]\n"
     ]
    }
   ],
   "source": [
    "# Join user-level features into a single DataFrame\n",
    "user_features = pd.DataFrame(user_avg_ratings)\n",
    "user_features.columns = ['avg_rating']\n",
    "\n",
    "# Join unique genres watched\n",
    "user_features = user_features.join(genres_usr_unique.rename('unique_genres_watched'))\n",
    "\n",
    "# Replace unique_genres_watched lists with their lengths\n",
    "user_features['unique_genres_watched'] = user_features['unique_genres_watched'].apply(lambda x: len(x) if isinstance(x, list) else 0)\n",
    "\n",
    "# Join user watch count by genre\n",
    "user_features = user_features.join(user_genre_watch_count, rsuffix='_watch_count')\n",
    "\n",
    "# Join user average rating by genre\n",
    "user_features = user_features.join(user_genre_avg_rating, rsuffix='_avg_rating')\n",
    "\n",
    "print(user_features.head())"
   ]
  },
  {
   "cell_type": "code",
   "execution_count": 10,
   "id": "b9e6bf83",
   "metadata": {},
   "outputs": [
    {
     "data": {
      "text/plain": [
       "(200948, 42)"
      ]
     },
     "execution_count": 10,
     "metadata": {},
     "output_type": "execute_result"
    }
   ],
   "source": [
    "user_features.shape"
   ]
  },
  {
   "cell_type": "code",
   "execution_count": 11,
   "id": "413f54f4",
   "metadata": {},
   "outputs": [
    {
     "name": "stdout",
     "output_type": "stream",
     "text": [
      "Drama                 34175\n",
      "Comedy                23124\n",
      "Thriller              11823\n",
      "Romance               10369\n",
      "Action                 9668\n",
      "Documentary            9363\n",
      "Horror                 8654\n",
      "(no genres listed)     7080\n",
      "Crime                  6976\n",
      "Adventure              5402\n",
      "Sci-Fi                 4907\n",
      "Animation              4617\n",
      "Children               4520\n",
      "Mystery                4013\n",
      "Fantasy                3851\n",
      "War                    2325\n",
      "Western                1696\n",
      "Musical                1059\n",
      "Film-Noir               353\n",
      "IMAX                    195\n",
      "dtype: int64\n"
     ]
    }
   ],
   "source": [
    "count_movies_by_genre = movies['genres'].str.get_dummies(sep='|').sum().sort_values(ascending=False)\n",
    "print(count_movies_by_genre)"
   ]
  },
  {
   "cell_type": "code",
   "execution_count": 12,
   "id": "4e0fa771",
   "metadata": {},
   "outputs": [
    {
     "name": "stdout",
     "output_type": "stream",
     "text": [
      "        (no genres listed)    Action  Adventure  Animation  Children  \\\n",
      "userId                                                                 \n",
      "1                 0.000141  0.002064   0.003320   0.000216  0.000661   \n",
      "2                 0.000141  0.001032   0.001475   0.001941  0.002643   \n",
      "3                 0.000141  0.006090   0.010882   0.002804  0.004626   \n",
      "4                 0.000141  0.001239   0.001107   0.000216  0.000220   \n",
      "5                 0.000141  0.001548   0.002582   0.000863  0.001101   \n",
      "\n",
      "          Comedy     Crime  Documentary     Drama   Fantasy  Film-Noir  \\\n",
      "userId                                                                   \n",
      "1       0.002247  0.002430     0.000213  0.003012  0.002325   0.005362   \n",
      "2       0.001167  0.001001     0.000107  0.000731  0.001292   0.002681   \n",
      "3       0.002376  0.002430     0.000107  0.001579  0.004650   0.002681   \n",
      "4       0.000346  0.000572     0.000107  0.000263  0.001033   0.002681   \n",
      "5       0.000432  0.001429     0.000107  0.000409  0.000775   0.002681   \n",
      "\n",
      "          Horror      IMAX   Musical   Mystery   Romance    Sci-Fi  Thriller  \\\n",
      "userId                                                                         \n",
      "1       0.000461  0.004651  0.000927  0.002727  0.003561  0.003653  0.001435   \n",
      "2       0.000231  0.013953  0.007414  0.000496  0.002118  0.000203  0.001013   \n",
      "3       0.000576  0.023256  0.010195  0.000992  0.003465  0.007307  0.002786   \n",
      "4       0.000922  0.004651  0.000927  0.001240  0.000096  0.001218  0.001098   \n",
      "5       0.000346  0.018605  0.003707  0.000496  0.000481  0.001218  0.001435   \n",
      "\n",
      "             War   Western  \n",
      "userId                      \n",
      "1       0.009808  0.001748  \n",
      "2       0.001279  0.000583  \n",
      "3       0.005544  0.002331  \n",
      "4       0.001279  0.000583  \n",
      "5       0.001706  0.001166  \n"
     ]
    }
   ],
   "source": [
    "### Probability a user will interact with a movie given it has a specific genre (with smoothing)\n",
    "\n",
    "# Smoothing parameter\n",
    "alpha = 1\n",
    "K = len(count_movies_by_genre)\n",
    "\n",
    "# Numerator: user_genre_watch_count + alpha\n",
    "numerator = user_genre_watch_count.add(alpha)\n",
    "# Denominator: total movies in genre + alpha*K\n",
    "# (broadcasted for each genre)\n",
    "denominator = count_movies_by_genre.add(alpha * K)\n",
    "\n",
    "# Broadcast division to get smoothed probability matrix\n",
    "p_user_will_interact = numerator.div(denominator, axis=1)\n",
    "\n",
    "print(p_user_will_interact.head())"
   ]
  },
  {
   "cell_type": "code",
   "execution_count": 13,
   "id": "42b98be5",
   "metadata": {},
   "outputs": [
    {
     "name": "stdout",
     "output_type": "stream",
     "text": [
      "   userId    year_mean  year_median  year_mode  year_stdDev\n",
      "0       1  1984.673759       1989.0     1995.0    14.897026\n",
      "1       2  1992.192308       1994.0     1994.0     8.597853\n",
      "2       3  1991.408163       1994.0     1995.0    10.832318\n",
      "3       4  1994.518519       1999.0     1999.0     7.747805\n",
      "4       5  1993.666667       1994.0     1994.0     1.534329\n"
     ]
    }
   ],
   "source": [
    "def extract_year(title):\n",
    "    \"\"\"Extracts the year from a movie title string like 'Movie Title (1999)'. Returns np.nan if not found.\"\"\"\n",
    "    match = re.search(r'\\((\\d{4})\\)', title)\n",
    "    if match:\n",
    "        return int(match.group(1))\n",
    "    return np.nan\n",
    "\n",
    "# Add a 'year' column to the movies DataFrame\n",
    "movies['year'] = movies['title'].apply(extract_year)\n",
    "\n",
    "# Function to compute average year of movies watched by each user\n",
    "def year_stats_watched(movie_ids):\n",
    "    years = movies[movies['movieId'].isin(movie_ids)]['year'].dropna()\n",
    "    if len(years) == 0:\n",
    "        return pd.Series([np.nan, np.nan, np.nan, np.nan], index=['year_mean', 'year_median', 'year_mode', 'year_stdDev'])\n",
    "    mean = years.mean()\n",
    "    median = years.median()\n",
    "    stddev = years.std()\n",
    "    mode = years.mode().iloc[0] if not years.mode().empty else np.nan\n",
    "    return pd.Series([mean, median, mode, stddev], index=['year_mean', 'year_median', 'year_mode', 'year_stdDev'])\n",
    "\n",
    "\n",
    "# Compute year statistics for each user\n",
    "user_year_stats = movies_usr_watched.apply(year_stats_watched)\n",
    "user_year_stats = user_year_stats.reset_index().rename(columns={\"index\": \"userId\"})\n",
    "print(user_year_stats.head())"
   ]
  },
  {
   "cell_type": "code",
   "execution_count": 39,
   "id": "c8cb2290",
   "metadata": {},
   "outputs": [],
   "source": [
    "def user_meta_stats(movie_ids, preprocessed_movies):\n",
    "    \"\"\"\n",
    "    Returns the number and average score of religious, NSFW, and Oscar movies watched by a user.\n",
    "    Output: (religious_count, religious_avg, nsfw_count, nsfw_avg, oscar_count, oscar_avg)\n",
    "    \"\"\"\n",
    "    watched = preprocessed_movies[preprocessed_movies['movieId'].isin(movie_ids)]\n",
    "    # Religious stats\n",
    "    religious_movies = watched[watched['religion'] > 0]\n",
    "    religious_count = len(religious_movies)\n",
    "    religious_avg = religious_movies['religion'].mean() if religious_count > 0 else 0\n",
    "    # NSFW stats\n",
    "    nsfw_movies = watched[watched['nsfw'] > 0]\n",
    "    nsfw_count = len(nsfw_movies)\n",
    "    nsfw_avg = nsfw_movies['nsfw'].mean() if nsfw_count > 0 else 0\n",
    "    # Oscar stats\n",
    "    oscar_movies = watched[watched['oscars'] > 0]\n",
    "    oscar_count = len(oscar_movies)\n",
    "    oscar_avg = oscar_movies['oscars'].mean() if oscar_count > 0 else 0\n",
    "    return religious_count, religious_avg, nsfw_count, nsfw_avg, oscar_count, oscar_avg"
   ]
  },
  {
   "cell_type": "code",
   "execution_count": 40,
   "id": "9a739c70",
   "metadata": {},
   "outputs": [],
   "source": [
    "usrmeta_stats = movies_usr_watched.reset_index().rename(columns={\"index\": \"userId\"})\n",
    "meta_stats = movies_usr_watched['movieId'].apply(lambda x: user_meta_stats(x, preprocessed_movies))\n"
   ]
  },
  {
   "cell_type": "code",
   "execution_count": 45,
   "id": "3a871539",
   "metadata": {},
   "outputs": [
    {
     "name": "stdout",
     "output_type": "stream",
     "text": [
      "   religious_count  religious_avg_score  nsfw_count  nsfw_avg_score  \\\n",
      "0               27             0.108642          62        1.919355   \n",
      "1                8             0.133333          13        1.769231   \n",
      "2               29             0.101149          52        1.769231   \n",
      "3                4             0.116667          12        1.583333   \n",
      "4                9             0.125926          20        1.750000   \n",
      "5                4             0.233333          14        1.857143   \n",
      "6                9             0.103704          18        1.444444   \n",
      "7                8             0.100000          26        2.538462   \n",
      "8               11             0.145455          38        2.105263   \n",
      "9              119             0.112045         349        1.808023   \n",
      "\n",
      "   oscar_count  oscar_avg_score  \n",
      "0           64         5.398438  \n",
      "1           12         4.041667  \n",
      "2           38         6.000000  \n",
      "3            4         3.750000  \n",
      "4           12         7.250000  \n",
      "5            4         5.875000  \n",
      "6           13         4.884615  \n",
      "7           19         6.315789  \n",
      "8           10         4.800000  \n",
      "9           89         4.612360  \n"
     ]
    }
   ],
   "source": [
    "# Split the tuples into separate columns\n",
    "movies_usr_watched['religious_count'] = meta_stats.apply(lambda x: x[0])\n",
    "movies_usr_watched['religious_avg_score'] = meta_stats.apply(lambda x: x[1])\n",
    "movies_usr_watched['nsfw_count'] = meta_stats.apply(lambda x: x[2])\n",
    "movies_usr_watched['nsfw_avg_score'] = meta_stats.apply(lambda x: x[3])\n",
    "movies_usr_watched['oscar_count'] = meta_stats.apply(lambda x: x[4])\n",
    "movies_usr_watched['oscar_avg_score'] = meta_stats.apply(lambda x: x[5])\n",
    "\n",
    "# Display the first few rows to verify\n",
    "print(movies_usr_watched[['religious_count', 'religious_avg_score', 'nsfw_count', 'nsfw_avg_score', 'oscar_count', 'oscar_avg_score']].head(10))"
   ]
  },
  {
   "cell_type": "code",
   "execution_count": 13,
   "id": "68f4d068",
   "metadata": {},
   "outputs": [
    {
     "name": "stdout",
     "output_type": "stream",
     "text": [
      "Sparse user-movie interaction matrix shape: (200948, 87585)\n"
     ]
    }
   ],
   "source": [
    "# Create a user-item interaction matrix: users x movies, values are 1 (like), -1 (dislike), or NaN (not rated)\n",
    "\n",
    "# Map ratings to implicit confidence values for ALS\n",
    "# Mirroring method from Collaborative Filtering for Implicit Feedback Datasets\n",
    "# http://yifanhu.net/PUB/cf.pdf\n",
    "alpha = 40  # You can tune this value\n",
    "ratings['interaction'] = np.where(ratings['rating'] > 2.5, 1 + alpha * (ratings['rating'] / 5), ratings['rating'])\n",
    "ratings['interaction'] = np.where(ratings['interaction'] == 1, 0, ratings['interaction'])\n",
    "\n",
    "\n",
    "\n",
    "\n",
    "# Use all users and all movies for the matrix shape\n",
    "user_ids = ratings['userId'].unique()\n",
    "movie_ids = movies['movieId'].unique()\n",
    "user_idx = {user: i for i, user in enumerate(user_ids)}\n",
    "movie_idx = {movie: i for i, movie in enumerate(movie_ids)}\n",
    "\n",
    "# For each rating, get the user and movie index\n",
    "row = [user_idx[user] for user in ratings['userId']]\n",
    "col = [movie_idx[movie] for movie in ratings['movieId']]\n",
    "data = ratings['interaction'].values\n",
    "\n",
    "# Create sparse matrix with all users and all movies\n",
    "interactions = sparse.coo_matrix((data, (row, col)), \n",
    "                                shape=(len(user_ids), len(movie_ids)))\n",
    "\n",
    "# Convert to CSR format for efficient row slicing\n",
    "interactions_csr = interactions.tocsr()\n",
    "sparse.save_npz('user_movie_interactions.npz', interactions_csr)\n",
    "\n",
    "print(f\"Sparse user-movie interaction matrix shape: {interactions_csr.shape}\")"
   ]
  },
  {
   "cell_type": "code",
   "execution_count": 14,
   "id": "8c454713",
   "metadata": {},
   "outputs": [
    {
     "name": "stdout",
     "output_type": "stream",
     "text": [
      "  (0, 16)\t33.0\n",
      "  (0, 24)\t0.0\n",
      "  (0, 28)\t2.0\n",
      "  (0, 29)\t41.0\n",
      "  (0, 31)\t41.0\n",
      "  (0, 33)\t2.0\n",
      "  (0, 35)\t0.0\n",
      "  (0, 79)\t41.0\n",
      "  (0, 108)\t25.0\n",
      "  (0, 109)\t41.0\n",
      "  (0, 159)\t0.0\n",
      "  (0, 164)\t41.0\n",
      "  (0, 174)\t33.0\n",
      "  (0, 220)\t25.0\n",
      "  (0, 229)\t41.0\n",
      "  (0, 257)\t41.0\n",
      "  (0, 298)\t33.0\n",
      "  (0, 302)\t41.0\n",
      "  (0, 303)\t41.0\n",
      "  (0, 318)\t33.0\n",
      "  (0, 340)\t0.0\n",
      "  (0, 351)\t2.0\n",
      "  (0, 522)\t25.0\n",
      "  (0, 536)\t41.0\n",
      "  (0, 555)\t41.0\n",
      "  :\t:\n",
      "  (0, 2245)\t41.0\n",
      "  (0, 2261)\t25.0\n",
      "  (0, 2305)\t41.0\n",
      "  (0, 2316)\t0.0\n",
      "  (0, 2333)\t0.0\n",
      "  (0, 2411)\t25.0\n",
      "  (0, 2429)\t41.0\n",
      "  (0, 2438)\t41.0\n",
      "  (0, 2508)\t41.0\n",
      "  (0, 2549)\t41.0\n",
      "  (0, 2598)\t25.0\n",
      "  (0, 2620)\t0.0\n",
      "  (0, 2632)\t0.0\n",
      "  (0, 2705)\t41.0\n",
      "  (0, 2790)\t0.0\n",
      "  (0, 2798)\t33.0\n",
      "  (0, 2826)\t33.0\n",
      "  (0, 2852)\t33.0\n",
      "  (0, 2874)\t0.0\n",
      "  (0, 2881)\t41.0\n",
      "  (0, 2893)\t41.0\n",
      "  (0, 2905)\t33.0\n",
      "  (0, 2937)\t33.0\n",
      "  (0, 2985)\t2.0\n",
      "  (0, 2995)\t25.0\n"
     ]
    }
   ],
   "source": [
    "print(interactions_csr[0])"
   ]
  },
  {
   "cell_type": "code",
   "execution_count": 52,
   "id": "91e45c78",
   "metadata": {},
   "outputs": [
    {
     "name": "stdout",
     "output_type": "stream",
     "text": [
      "Saved all user features to pre_processed_users.csv\n"
     ]
    }
   ],
   "source": [
    "# Join user-level features into a single DataFrame\n",
    "# Join year statistics\n",
    "user_features = user_features.join(user_year_stats.set_index('userId'))\n",
    "\n",
    "# Join religious and NSFW stats\n",
    "user_features = user_features.join(movies_usr_watched.set_index('userId')[['religious_count', 'religious_avg_score', 'nsfw_count', 'nsfw_avg_score', \n",
    "                                                                           'oscar_count', 'oscar_avg_score']])\n",
    "\n",
    "# Join probability of user interacting with each genre (optional: can flatten columns if needed)\n",
    "# user_features = user_features.join(p_user_will_interact, rsuffix='_p_interact')\n",
    "\n",
    "# Save to CSV\n",
    "user_features.to_csv('pre_processed_users.csv')\n",
    "print('Saved all user features to pre_processed_users.csv')"
   ]
  },
  {
   "cell_type": "code",
   "execution_count": 55,
   "id": "b3257362",
   "metadata": {},
   "outputs": [
    {
     "name": "stdout",
     "output_type": "stream",
     "text": [
      "        avg_rating  unique_genres_watched  (no genres listed)  Action  \\\n",
      "userId                                                                  \n",
      "1         3.531915                     16                   0      19   \n",
      "2         4.269231                     15                   0       9   \n",
      "3         3.588435                     17                   0      58   \n",
      "4         2.629630                     11                   0      11   \n",
      "5         3.272727                     17                   0      14   \n",
      "6         4.173077                     15                   0      22   \n",
      "7         3.636364                     16                   0      13   \n",
      "8         4.322581                     12                   0       6   \n",
      "9         4.241379                     16                   0      18   \n",
      "10        2.787121                     19                   0     341   \n",
      "\n",
      "        Adventure  Animation  Children  Comedy  Crime  Documentary  ...  \\\n",
      "userId                                                              ...   \n",
      "1              17          0         2      51     16            1  ...   \n",
      "2               7          8        11      26      6            0  ...   \n",
      "3              58         12        20      54     16            0  ...   \n",
      "4               5          0         0       7      3            0  ...   \n",
      "5              13          3         4       9      9            0  ...   \n",
      "6              11          1         0       4      1            0  ...   \n",
      "7              11          2         6      24      9            1  ...   \n",
      "8               2          0         0       5     13            0  ...   \n",
      "9               9          1         0      26     23            0  ...   \n",
      "10            231         23        41     184    122            2  ...   \n",
      "\n",
      "          year_mean  year_median  year_mode  year_stdDev  religious_count  \\\n",
      "userId                                                                      \n",
      "1       1984.673759       1989.0     1995.0    14.897026               27   \n",
      "2       1992.192308       1994.0     1994.0     8.597853                8   \n",
      "3       1991.408163       1994.0     1995.0    10.832318               29   \n",
      "4       1994.518519       1999.0     1999.0     7.747805                4   \n",
      "5       1993.666667       1994.0     1994.0     1.534329                9   \n",
      "6       1992.230769       1998.5     1999.0    12.235384                4   \n",
      "7       1993.340909       1994.0     1994.0     2.261335                9   \n",
      "8       1996.400000       1999.5     1999.0    14.201991                8   \n",
      "9       1995.155172       1998.0     1994.0     9.301578               11   \n",
      "10      2000.774242       2003.0     2007.0    10.839382              119   \n",
      "\n",
      "        religious_avg_score  nsfw_count  nsfw_avg_score  oscar_count  \\\n",
      "userId                                                                 \n",
      "1                  0.108642          62        1.919355           64   \n",
      "2                  0.133333          13        1.769231           12   \n",
      "3                  0.101149          52        1.769231           38   \n",
      "4                  0.116667          12        1.583333            4   \n",
      "5                  0.125926          20        1.750000           12   \n",
      "6                  0.233333          14        1.857143            4   \n",
      "7                  0.103704          18        1.444444           13   \n",
      "8                  0.100000          26        2.538462           19   \n",
      "9                  0.145455          38        2.105263           10   \n",
      "10                 0.112045         349        1.808023           89   \n",
      "\n",
      "        oscar_avg_score  \n",
      "userId                   \n",
      "1              5.398438  \n",
      "2              4.041667  \n",
      "3              6.000000  \n",
      "4              3.750000  \n",
      "5              7.250000  \n",
      "6              5.875000  \n",
      "7              4.884615  \n",
      "8              6.315789  \n",
      "9              4.800000  \n",
      "10             4.612360  \n",
      "\n",
      "[10 rows x 52 columns]\n",
      "(200948, 52)\n"
     ]
    }
   ],
   "source": [
    "print(user_features.head(n=10))\n",
    "print(user_features.shape)"
   ]
  }
 ],
 "metadata": {
  "kernelspec": {
   "display_name": "3.10.11",
   "language": "python",
   "name": "python3"
  },
  "language_info": {
   "codemirror_mode": {
    "name": "ipython",
    "version": 3
   },
   "file_extension": ".py",
   "mimetype": "text/x-python",
   "name": "python",
   "nbconvert_exporter": "python",
   "pygments_lexer": "ipython3",
   "version": "3.10.11"
  }
 },
 "nbformat": 4,
 "nbformat_minor": 5
}
