{
 "cells": [
  {
   "cell_type": "code",
   "execution_count": 1,
   "id": "100142a6",
   "metadata": {},
   "outputs": [],
   "source": [
    "import pandas as pd\n",
    "import numpy as np\n",
    "from wordcloud import WordCloud\n",
    "import matplotlib.pyplot as plt\n",
    "from sklearn.feature_extraction.text import TfidfVectorizer\n",
    "from sklearn.metrics.pairwise import cosine_similarity\n",
    "import spacy\n",
    "from gensim.models import Word2Vec"
   ]
  },
  {
   "cell_type": "code",
   "execution_count": 3,
   "id": "eba197d9",
   "metadata": {},
   "outputs": [],
   "source": [
    "ratings = pd.read_csv('data/ml-32m/ratings.csv')\n",
    "movies= pd.read_csv('data/ml-32m/movies.csv')\n",
    "tags = pd.read_csv('data/ml-32m/tags.csv')"
   ]
  },
  {
   "cell_type": "code",
   "execution_count": 6,
   "id": "9bc5d2a7",
   "metadata": {},
   "outputs": [],
   "source": [
    "META_TAGS = {\n",
    "    \"religious\" : [\"pope\", \"god\", \"jesus\", \"bible\", \"church\", \"devil\", \"angel\", \"heaven\", \"hell\", \"satan\", \"jesus christ\", \"spiritual\", \"faith\",\n",
    "                   \"demon\", \"religion\"],\n",
    "    \"nsfw\" : [\"gore\", \"nudity\", \"sex\", \"group sex\", \"violence\", \"explicit sex\", \"gruesome\", \"erection\", \"nudity (full frontal - notable)\",\n",
    "              \"breasts\", \"nudity (topless - notable)\", \"nudity (topless)\"],\n",
    "    \"childrens\" : [\"disney\", \"disney animated feature\", \"animated\"],\n",
    "    \"oscar_winner\" : [\"oscar (best supporting actor)\" ,\"oscar (best actor)\",\"oscar (best directing)\",\"oscar winner: best picture\",\"oscar (best picture)\",\n",
    "                      \"oscar (best supporting actress)\",\"oscar (best actress)\"],\n",
    "    \"oscar_nominee\" : [\"oscar nominee: best picture\",\"oscar nominee: best actor\",\"oscar nominee: best actress\",\"oscar nominee: best supporting actor\",\n",
    "                      \"oscar nominee: best supporting actress\",\"oscar nominee: best director\"],\n",
    "    \"notable\" : [\"afi 100\", \"imdb top 250\", \"national film registry\"],\n",
    "    \"genres\" : [\n",
    "        \"action\", \"adventure\", \"animation\", \"children's\", \"comedy\", \"crime\", \"documentary\", \"drama\", \"fantasy\", \"film-noir\", \"horror\", \"musical\", \"mystery\", \"romance\", \"sci-fi\", \"thriller\", \"war\", \"western\", \"(no genres listed)\"\n",
    "    ]\n",
    "}"
   ]
  },
  {
   "cell_type": "code",
   "execution_count": null,
   "id": "971c3f74",
   "metadata": {},
   "outputs": [
    {
     "name": "stdout",
     "output_type": "stream",
     "text": [
      "userId\n",
      "1    3.531915\n",
      "2    4.269231\n",
      "3    3.588435\n",
      "4    2.629630\n",
      "5    3.272727\n",
      "Name: rating, dtype: float64\n",
      "userId\n",
      "1    [17, 25, 29, 30, 32, 34, 36, 80, 110, 111, 161...\n",
      "2    [31, 34, 39, 48, 153, 185, 186, 193, 207, 216,...\n",
      "3    [2, 10, 11, 17, 26, 48, 62, 110, 141, 150, 151...\n",
      "4    [223, 1210, 1272, 1327, 1513, 1833, 2115, 2428...\n",
      "5    [10, 47, 110, 150, 153, 161, 165, 185, 208, 23...\n",
      "Name: movieId, dtype: object\n"
     ]
    }
   ],
   "source": [
    "# Average rating of all movies the user has watched\n",
    "user_avg_ratings = ratings.groupby('userId')['rating'].mean()\n",
    "print(user_avg_ratings.head(n=5))\n",
    "# List of all movies the user has watched\n",
    "movies_usr_watched = ratings.groupby('userId')['movieId'].apply(list)\n",
    "print(movies_usr_watched.head(n=5))\n",
    "# List of all genres the user has watched\n",
    "genres_usr_watched = ratings.merge(movies, on='movieId')[['userId', 'genres']]\n",
    "genres_usr_watched['genres'] = genres_usr_watched['genres'].str.split('|')"
   ]
  },
  {
   "cell_type": "code",
   "execution_count": 9,
   "id": "bb3796a7",
   "metadata": {},
   "outputs": [
    {
     "name": "stdout",
     "output_type": "stream",
     "text": [
      "userId\n",
      "1    [Mystery, Romance, Horror, Children, Fantasy, ...\n",
      "2    [Mystery, Romance, Horror, Children, Fantasy, ...\n",
      "3    [Mystery, Romance, Horror, Children, Fantasy, ...\n",
      "4    [Mystery, Horror, Fantasy, Comedy, Thriller, W...\n",
      "5    [Mystery, Horror, Romance, Children, Fantasy, ...\n",
      "Name: genres, dtype: object\n"
     ]
    }
   ],
   "source": [
    "# Get unique genres watched by each user\n",
    "genres_usr_unique = genres_usr_watched.groupby('userId')['genres'].sum().apply(lambda x: list(set(x)))\n",
    "print(genres_usr_unique.head(n=5))"
   ]
  },
  {
   "cell_type": "code",
   "execution_count": 10,
   "id": "52b8d095",
   "metadata": {},
   "outputs": [
    {
     "name": "stdout",
     "output_type": "stream",
     "text": [
      "genres  (no genres listed)  Action  Adventure  Animation  Children  Comedy  \\\n",
      "userId                                                                       \n",
      "1                        0      19         17          0         2      51   \n",
      "2                        0       9          7          8        11      26   \n",
      "3                        0      58         58         12        20      54   \n",
      "4                        0      11          5          0         0       7   \n",
      "5                        0      14         13          3         4       9   \n",
      "\n",
      "genres  Crime  Documentary  Drama  Fantasy  Film-Noir  Horror  IMAX  Musical  \\\n",
      "userId                                                                         \n",
      "1          16            1    102        8          1       3     0        0   \n",
      "2           6            0     24        4          0       1     2        7   \n",
      "3          16            0     53       17          0       4     4       10   \n",
      "4           3            0      8        3          0       7     0        0   \n",
      "5           9            0     13        2          0       2     3        3   \n",
      "\n",
      "genres  Mystery  Romance  Sci-Fi  Thriller  War  Western  \n",
      "userId                                                    \n",
      "1            10       36      17        16   22        2  \n",
      "2             1       21       0        11    2        0  \n",
      "3             3       35      35        32   12        3  \n",
      "4             4        0       5        12    2        0  \n",
      "5             1        4       5        16    3        1  \n",
      "genres  (no genres listed)    Action  Adventure  Animation  Children  \\\n",
      "userId                                                                 \n",
      "1                      NaN  4.105263   3.470588        NaN  3.500000   \n",
      "2                      NaN  3.888889   4.142857   4.875000  4.727273   \n",
      "3                      NaN  3.560345   3.620690   3.958333  3.775000   \n",
      "4                      NaN  2.454545   3.400000        NaN       NaN   \n",
      "5                      NaN  3.642857   3.461538   3.666667  3.500000   \n",
      "\n",
      "genres    Comedy     Crime  Documentary     Drama   Fantasy  Film-Noir  \\\n",
      "userId                                                                   \n",
      "1       3.333333  3.875000          3.0  3.549020  2.500000        5.0   \n",
      "2       4.000000  3.500000          NaN  4.458333  4.750000        NaN   \n",
      "3       3.203704  3.406250          NaN  4.169811  3.117647        NaN   \n",
      "4       3.142857  2.000000          NaN  2.375000  3.333333        NaN   \n",
      "5       3.000000  2.888889          NaN  3.153846  3.000000        NaN   \n",
      "\n",
      "genres    Horror      IMAX   Musical   Mystery   Romance    Sci-Fi  Thriller  \\\n",
      "userId                                                                         \n",
      "1       3.666667       NaN       NaN  3.700000  3.250000  3.941176  3.500000   \n",
      "2       1.000000  5.000000  4.857143  5.000000  4.761905       NaN  4.181818   \n",
      "3       2.375000  4.250000  3.850000  3.666667  3.714286  3.428571  3.468750   \n",
      "4       2.571429       NaN       NaN  3.000000       NaN  2.800000  2.166667   \n",
      "5       2.500000  3.666667  3.666667  3.000000  3.750000  3.200000  3.562500   \n",
      "\n",
      "genres       War  Western  \n",
      "userId                     \n",
      "1       3.318182      3.5  \n",
      "2       4.000000      NaN  \n",
      "3       4.083333      3.5  \n",
      "4       2.500000      NaN  \n",
      "5       4.000000      3.0  \n"
     ]
    }
   ],
   "source": [
    "# 1) User watch count by genre\n",
    "# Explode genres so each row is (userId, genre)\n",
    "exploded = genres_usr_watched.explode('genres')\n",
    "# Remove any missing genres\n",
    "exploded = exploded[exploded['genres'].notnull()]\n",
    "# User watch count by genre (number of movies watched per genre)\n",
    "user_genre_watch_count = exploded.groupby(['userId', 'genres']).size().unstack(fill_value=0)\n",
    "print(user_genre_watch_count.head())\n",
    "\n",
    "# 2) User average rating by genre\n",
    "# Merge ratings with movies to get genres for each rating\n",
    "ratings_with_genres = ratings.merge(movies[['movieId', 'genres']], on='movieId')\n",
    "ratings_with_genres['genres'] = ratings_with_genres['genres'].str.split('|')\n",
    "ratings_exploded = ratings_with_genres.explode('genres')\n",
    "ratings_exploded = ratings_exploded[ratings_exploded['genres'].notnull()]\n",
    "# Group by user and genre, then average the ratings\n",
    "user_genre_avg_rating = ratings_exploded.groupby(['userId', 'genres'])['rating'].mean().unstack()\n",
    "print(user_genre_avg_rating.head())"
   ]
  },
  {
   "cell_type": "code",
   "execution_count": null,
   "id": "ee9a49d7",
   "metadata": {},
   "outputs": [],
   "source": [
    "# Join user-level features into a single DataFrame\n",
    "user_features = pd.DataFrame(user_avg_ratings)\n",
    "user_features.columns = ['avg_rating']\n",
    "\n",
    "# Join unique genres watched\n",
    "user_features = user_features.join(genres_usr_unique.rename('unique_genres_watched'))\n",
    "\n",
    "# Join user watch count by genre\n",
    "user_features = user_features.join(user_genre_watch_count, rsuffix='_watch_count')\n",
    "\n",
    "# Join user average rating by genre\n",
    "user_features = user_features.join(user_genre_avg_rating, rsuffix='_avg_rating')\n",
    "\n",
    "print(user_features.head())"
   ]
  }
 ],
 "metadata": {
  "kernelspec": {
   "display_name": "3.10.11",
   "language": "python",
   "name": "python3"
  },
  "language_info": {
   "codemirror_mode": {
    "name": "ipython",
    "version": 3
   },
   "file_extension": ".py",
   "mimetype": "text/x-python",
   "name": "python",
   "nbconvert_exporter": "python",
   "pygments_lexer": "ipython3",
   "version": "3.10.11"
  }
 },
 "nbformat": 4,
 "nbformat_minor": 5
}
